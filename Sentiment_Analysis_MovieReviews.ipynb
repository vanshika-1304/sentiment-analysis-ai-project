{
  "nbformat": 4,
  "nbformat_minor": 0,
  "metadata": {
    "colab": {
      "provenance": []
    },
    "kernelspec": {
      "name": "python3",
      "display_name": "Python 3"
    },
    "language_info": {
      "name": "python"
    }
  },
  "cells": [
    {
      "cell_type": "code",
      "execution_count": 1,
      "metadata": {
        "id": "dVv0En2y8m-B",
        "colab": {
          "base_uri": "https://localhost:8080/"
        },
        "outputId": "d1ed7bd4-6a08-4680-923d-452421d41b6b"
      },
      "outputs": [
        {
          "output_type": "stream",
          "name": "stdout",
          "text": [
            "Requirement already satisfied: nltk in /usr/local/lib/python3.11/dist-packages (3.9.1)\n",
            "Requirement already satisfied: click in /usr/local/lib/python3.11/dist-packages (from nltk) (8.2.1)\n",
            "Requirement already satisfied: joblib in /usr/local/lib/python3.11/dist-packages (from nltk) (1.5.1)\n",
            "Requirement already satisfied: regex>=2021.8.3 in /usr/local/lib/python3.11/dist-packages (from nltk) (2024.11.6)\n",
            "Requirement already satisfied: tqdm in /usr/local/lib/python3.11/dist-packages (from nltk) (4.67.1)\n"
          ]
        }
      ],
      "source": [
        "!pip install nltk\n"
      ]
    },
    {
      "cell_type": "code",
      "source": [
        "import nltk\n",
        "from nltk.corpus import movie_reviews\n",
        "import random\n"
      ],
      "metadata": {
        "id": "KCq4tRMBAA0e"
      },
      "execution_count": 2,
      "outputs": []
    },
    {
      "cell_type": "code",
      "source": [
        "nltk.download('movie_reviews')\n",
        "\n",
        "# Create a list of documents, each document is a tuple (list_of_words, category)\n",
        "documents = [(list(movie_reviews.words(fileid)), category)\n",
        "             for category in movie_reviews.categories()\n",
        "             for fileid in movie_reviews.fileids(category)]\n",
        "\n",
        "# Shuffle the documents to mix positive and negative samples\n",
        "random.shuffle(documents)\n",
        "\n",
        "# View the first document (optional)\n",
        "print(documents[0])\n"
      ],
      "metadata": {
        "colab": {
          "base_uri": "https://localhost:8080/"
        },
        "id": "hvA8lwUaAzI4",
        "outputId": "eb7ee68d-9e16-47ad-9fe3-901a12d3fbd7"
      },
      "execution_count": 3,
      "outputs": [
        {
          "output_type": "stream",
          "name": "stderr",
          "text": [
            "[nltk_data] Downloading package movie_reviews to /root/nltk_data...\n",
            "[nltk_data]   Unzipping corpora/movie_reviews.zip.\n"
          ]
        },
        {
          "output_type": "stream",
          "name": "stdout",
          "text": [
            "(['plot', ':', 'a', 'young', 'recruit', 'gets', 'plucked', 'out', 'of', 'nowhere', 'by', 'the', 'number', 'one', 'gangster', 'in', 'london', 'and', 'quickly', 'becomes', 'a', 'staple', 'by', 'his', 'side', '.', 'but', 'this', 'new', 'guy', 'is', 'not', 'like', 'all', 'the', 'others', ',', 'he', \"'\", 's', 'got', 'ambition', ',', 'he', \"'\", 's', 'got', 'goals', 'and', 'he', 'loves', 'everything', 'he', 'sees', 'about', 'being', 'the', 'number', 'one', 'gangster', '.', 'violence', ',', 'lots', 'of', 'swearing', 'and', 'betrayals', 'ensue', '.', 'critique', ':', 'a', 'very', 'good', ',', 'serious', '-', 'minded', ',', 'unique', 'british', 'gangster', 'flick', 'which', 'misses', 'the', '\"', 'great', '\"', 'mark', 'by', 'way', 'of', 'an', 'annoying', 'voice', '-', 'over', 'popping', 'up', 'throughout', 'the', 'film', 'and', 'a', 'so', '-', 'so', 'ending', '.', 'here', \"'\", 's', 'yet', 'another', 'cool', 'crime', 'movie', 'that', 'actually', 'manages', 'to', 'bring', 'something', 'new', 'into', 'the', 'mix', '.', 'okay', ',', 'so', 'it', \"'\", 's', 'not', 'entirely', 'new', ',', 'but', 'it', \"'\", 's', 'definitely', 'original', 'when', 'all', 'put', 'together', 'as', 'done', 'here', '.', 'the', 'thing', 'i', 'liked', 'most', 'about', 'this', 'movie', 'was', 'its', 'authentic', 'portrayal', 'of', 'the', 'time', 'period', 'in', 'which', 'it', 'was', 'taking', 'place', '.', 'it', \"'\", 's', '1968', 'and', 'these', 'dudes', 'are', 'looking', 'good', '!', 'yes', ',', 'it', \"'\", 's', 'all', 'about', 'the', 'suits', ',', 'fellas', '.', '.', '.', 'the', 'italian', 'shoes', ',', 'the', 'cufflinks', ',', 'the', 'ties', 'and', 'the', 'birds', '(', 'that', \"'\", 's', 'ladies', ',', 'for', 'those', 'uninitiated', ')', 'hanging', 'around', 'you', '.', 'here', 'are', 'a', 'bunch', 'of', 'horrible', 'men', ',', 'gangsters', 'if', 'you', 'will', ',', 'looking', 'sharp', ',', 'talking', 'shit', 'and', 'busting', 'heads', 'all', 'over', 'the', 'place', '.', 'but', 'that', \"'\", 's', 'not', 'the', 'basis', 'of', 'this', 'movie', '.', 'the', 'basis', 'of', 'this', 'film', 'comes', 'in', 'the', 'relationship', 'between', 'the', 'number', 'one', 'gangster', 'in', 'the', 'group', ',', 'the', 'excellent', 'david', 'thewlis', ',', 'and', 'one', 'of', 'his', 'cronies', ',', 'paul', 'bettany', ',', 'also', 'extremely', 'good', 'in', 'this', 'film', ',', 'and', 'how', 'the', 'power', ',', 'sex', 'appeal', 'and', 'coolness', 'of', 'one', ',', 'affects', 'the', 'other', '.', 'you', 'know', 'how', 'there', 'are', 'always', 'these', '\"', 'hanger', '-', 'on', '\"', 'gangster', 'types', 'who', 'latch', 'on', 'to', 'the', 'godfathers', ',', 'the', 'leaders', ',', 'the', 'top', 'dogs', 'of', 'every', 'crime', 'organization', '?', 'well', ',', 'most', 'of', 'the', 'time', ',', 'these', 'dudes', 'are', 'screened', 'beforehand', 'and', 'are', 'loyal', 'to', 'only', 'one', 'person', '.', '.', '.', 'that', 'is', ',', 'their', 'boss', '.', 'so', 'all', 'the', 'gangster', 'number', 'one', 'needs', 'to', 'worry', 'about', 'is', 'his', 'enemies', 'on', 'the', 'other', 'side', 'of', 'the', 'fence', '.', 'but', 'this', 'film', 'brings', 'the', 'betrayals', ',', 'the', 'messed', 'up', 'loyalties', ',', 'the', 'honor', 'codes', 'among', 'bad', 'guys', 'into', 'play', 'within', 'the', 'same', 'group', 'and', 'presents', 'it', 'in', 'quite', 'the', 'stylistic', 'package', '.', 'of', 'course', ',', 'director', 'paul', 'mcguigan', 'isn', \"'\", 't', 'trying', 'to', 'be', 'guy', 'ritchie', 'here', ',', 'and', 'doesn', \"'\", 't', 'over', '-', 'stylize', 'his', 'presentation', ',', 'jazz', 'it', 'all', 'up', 'with', 'a', 'hip', 'soundtrack', 'or', 'add', 'any', 'humor', 'to', 'the', 'mix', '.', 'nope', ',', 'he', 'goes', 'straight', 'for', 'the', 'serious', 'stuff', 'and', 'develops', 'at', 'least', 'two', 'particular', 'scenes', 'which', 'are', 'still', 'embedded', 'in', 'my', 'mind', 'as', 'i', 'type', 'this', '.', 'the', 'first', 'is', 'a', 'confrontation', 'sequence', 'between', 'bettany', 'and', 'a', 'man', 'from', 'which', 'he', \"'\", 's', 'attempting', 'to', 'sway', 'some', 'information', 'and', 'it', 'is', 'downright', 'nasty', '!', '(', '\"', 'look', 'into', 'my', 'eyes', '!', '\"', ')', 'in', 'fact', ',', 'the', 'last', 'time', 'that', 'i', \"'\", 've', 'seen', 'a', 'guy', 'so', 'scared', 'in', 'a', 'movie', 'was', 'john', 'turturro', 'in', 'that', 'forest', 'scene', 'from', 'the', 'coen', 'brothers', \"'\", 'miller', \"'\", 's', 'crossing', '.', 'scary', 'shite', '.', 'but', 'there', \"'\", 's', 'an', 'ever', 'better', 'scene', 'than', 'that', 'in', 'this', 'film', '.', 'this', 'one', 'features', 'bettany', ',', 'once', 'again', ',', 'slowly', 'torturing', ',', 'hacking', 'and', 'beating', 'the', 'living', 'piss', 'out', 'of', 'a', 'rival', 'gangster', '(', 'from', 'that', 'man', \"'\", 's', 'point', '-', 'of', '-', 'view', ')', ',', 'but', 'not', 'before', 'turning', 'on', 'a', 'quaint', 'little', 'tune', 'in', 'the', 'background', 'and', 'removing', 'all', 'of', 'his', 'own', 'expensive', 'clothes', ',', 'one', 'by', 'one', '(', 'that', \"'\", 's', 'right', ',', 'he', '\"', 'does', '\"', 'the', 'guy', 'in', 'his', 'underwear', ')', '.', 'that', 'scene', 'is', 'also', 'in', 'tune', 'with', 'some', 'of', 'the', 'obvious', 'phallic', 'and', 'homoerotic', 'undertones', 'present', 'throughout', 'this', 'film', ',', 'especially', 'in', 'the', 'relationship', 'between', 'bettany', 'and', 'his', 'boss', '(', 'why', 'does', 'he', 'get', 'so', 'upset', 'when', 'he', 'falls', 'in', 'love', 'with', 'that', 'woman', '?', ')', '.', 'but', 'the', 'flick', \"'\", 's', 'not', 'perfect', '.', 'in', 'fact', ',', 'i', 'didn', \"'\", 't', 'mind', 'malcolm', 'mcdowell', \"'\", 's', 'voice', '-', 'over', 'narration', 'at', 'first', ',', 'but', 'as', 'the', 'film', 'grew', 'into', 'a', 'major', 'flashback', '(', 'most', 'of', 'the', 'film', 'is', 'presented', 'as', 'such', ')', ',', 'he', 'came', 'in', 'every', 'now', 'and', 'then', ',', 'and', 'rarely', 'added', 'anything', 'of', 'interest', 'to', 'the', 'plot', '.', 'all', 'he', 'seemed', 'to', 'do', 'was', 'swear', 'and', 'call', 'people', 'the', 'c', '-', 'word', 'umpteen', 'times', ',', 'and', 'even', 'described', 'one', 'scene', 'as', 'it', 'was', 'happening', '(', '\"', '.', '.', '.', 'so', 'i', 'opened', 'the', 'door', ',', 'then', 'went', 'up', 'the', 'lift', ',', 'etc', '.', '.', '.', '.', '\"', '-', 'it', \"'\", 's', 'like', ',', 'yeah', ',', 'i', 'know', 'that', 'already', ',', 'i', 'could', 'see', 'it', 'on', 'the', 'screen', '!', '!', 'overdone', '.', ')', '.', 'i', 'also', 'didn', \"'\", 't', 'quite', '\"', 'buy', '\"', 'the', 'ending', 'of', 'the', 'movie', ',', 'which', 'despite', 'being', 'original', ',', 'seemed', 'a', 'little', 'unbelievable', ',', 'especially', 'when', 'you', 'consider', 'that', 'it', \"'\", 's', 'supposed', 'to', 'be', 'taking', 'place', '30', 'years', 'later', ',', 'and', 'folks', 'still', 'seem', 'to', 'be', 'holding', 'grudges', ',', 'still', 'in', 'love', ',', 'still', 'living', 'in', 'the', 'same', 'apartments', '?', '?', '!', '?', 'i', 'mean', ',', 'c', \"'\", 'mon', '.', '.', '.', 'it', \"'\", 's', '30', 'years', ',', 'man', '!', '!', 'i', 'don', \"'\", 't', 'know', ',', 'somehow', 'it', 'didn', \"'\", 't', 'work', 'all', 'that', 'well', 'for', 'me', '.', 'but', 'one', 'of', 'my', 'favorite', 'genres', 'has', 'always', 'been', 'the', 'crime', 'movies', ',', 'and', 'this', 'one', 'is', 'a', 'decent', 'addition', 'to', 'the', 'lot', '.', 'forget', 'the', 'lame', 'title', 'and', 'malcolm', 'mcdowell', \"'\", 's', 'narration', 'of', 'the', 'obvious', 'plot', 'points', ',', 'and', 'concentrate', 'on', 'the', 'film', \"'\", 's', 'stronger', 'attributes', 'such', 'as', 'its', 'style', ',', 'the', 'exquisite', 'atmosphere', 'of', 'the', 'time', 'period', ',', 'its', 'original', 'look', 'at', 'the', 'gangster', 'dynamic', 'within', 'the', 'same', 'group', ',', 'its', 'memorable', 'sequences', 'and', 'the', 'solid', 'performances', 'from', 'its', 'two', 'main', 'leads', ',', 'bettany', 'and', 'thewlis', '.', 'incidentally', ',', 'unlike', 'a', 'few', 'of', 'the', 'gangster', 'flicks', 'that', 'i', 'mention', 'below', ',', 'this', 'one', 'is', 'in', 'no', 'way', 'a', 'parody', 'or', 'homage', 'to', 'this', 'genre', 'of', 'films', '.', '.', '.', 'it', \"'\", 's', 'the', 'real', 'deal', '!', 'note', ':', 'this', 'film', 'is', 'packed', 'with', 'strong', 'accents', 'all', 'around', ',', 'which', 'makes', 'it', 'hard', 'to', 'make', 'out', 'some', 'of', 'the', 'words', 'from', 'time', 'to', 'time', '.', 'it', \"'\", 's', 'also', 'quite', 'violent', 'and', 'i', 'don', \"'\", 't', 'remember', 'any', 'film', 'that', 'used', 'the', 'c', '-', 'word', 'as', 'much', 'as', 'this', 'one', ',', 'so', 'leave', 'the', 'kids', 'at', 'home', 'for', 'this', 'one', '.', '.', '.', ';', ')', 'where', \"'\", 's', 'joblo', 'coming', 'from', '?', 'american', 'psycho', '(', '10', '/', '10', ')', '-', 'a', 'clockwork', 'orange', '(', '9', '/', '10', ')', '-', 'donnie', 'brasco', '(', '8', '/', '10', ')', '-', 'fight', 'club', '(', '10', '/', '10', ')', '-', 'get', 'carter', '(', '7', '/', '10', ')', '-', 'godfather', '(', '10', '/', '10', ')', '-', 'godfather', 'ii', '(', '10', '/', '10', ')', '-', 'goodfellas', '(', '10', '/', '10', ')', '-', 'lock', ',', 'stock', '&', 'two', 'smoking', 'barrels', '(', '8', '/', '10', ')', '-', 'pulp', 'fiction', '(', '8', '/', '10', ')', '-', 'reservoir', 'dogs', '(', '9', '/', '10', ')'], 'pos')\n"
          ]
        }
      ]
    },
    {
      "cell_type": "code",
      "source": [
        "# Get all words from all reviews\n",
        "all_words = nltk.FreqDist(w.lower() for w in movie_reviews.words())\n",
        "\n",
        "# Use the 2000 most common words as features\n",
        "word_features = list(all_words)[:2000]\n",
        "\n",
        "# Define a function to extract features from a document\n",
        "def document_features(document):\n",
        "    document_words = set(document)\n",
        "    features = {}\n",
        "    for word in word_features:\n",
        "        features[f'contains({word})'] = (word in document_words)\n",
        "    return features\n"
      ],
      "metadata": {
        "id": "YyICNVzNBSOZ"
      },
      "execution_count": 4,
      "outputs": []
    },
    {
      "cell_type": "code",
      "source": [
        "# Create feature sets for all documents\n",
        "featuresets = [(document_features(d), c) for (d, c) in documents]\n",
        "\n",
        "# Split into training and testing sets\n",
        "train_set, test_set = featuresets[:1900], featuresets[1900:]\n"
      ],
      "metadata": {
        "id": "dmDzLNvgBs2q"
      },
      "execution_count": 5,
      "outputs": []
    },
    {
      "cell_type": "code",
      "source": [
        "import nltk\n",
        "classifier = nltk.NaiveBayesClassifier.train(train_set)\n"
      ],
      "metadata": {
        "id": "bvjgL2ctB5oT"
      },
      "execution_count": 6,
      "outputs": []
    },
    {
      "cell_type": "code",
      "source": [
        "print(\"Classifier accuracy:\", nltk.classify.accuracy(classifier, test_set))\n"
      ],
      "metadata": {
        "colab": {
          "base_uri": "https://localhost:8080/"
        },
        "id": "P9G2qBnmCIXl",
        "outputId": "a9bfb6ea-41fc-4459-c7ac-bf3894f28eba"
      },
      "execution_count": 7,
      "outputs": [
        {
          "output_type": "stream",
          "name": "stdout",
          "text": [
            "Classifier accuracy: 0.88\n"
          ]
        }
      ]
    },
    {
      "cell_type": "code",
      "source": [
        "classifier.show_most_informative_features(10)\n"
      ],
      "metadata": {
        "colab": {
          "base_uri": "https://localhost:8080/"
        },
        "id": "uCatyweLCZPN",
        "outputId": "12d31efe-8db3-4f2d-bfff-72b8bb9ce384"
      },
      "execution_count": 8,
      "outputs": [
        {
          "output_type": "stream",
          "name": "stdout",
          "text": [
            "Most Informative Features\n",
            "   contains(outstanding) = True              pos : neg    =     10.6 : 1.0\n",
            "         contains(mulan) = True              pos : neg    =      9.2 : 1.0\n",
            "        contains(seagal) = True              neg : pos    =      8.1 : 1.0\n",
            "   contains(wonderfully) = True              pos : neg    =      7.5 : 1.0\n",
            "         contains(damon) = True              pos : neg    =      6.4 : 1.0\n",
            "         contains(flynt) = True              pos : neg    =      5.8 : 1.0\n",
            "    contains(ridiculous) = True              neg : pos    =      5.6 : 1.0\n",
            "        contains(poorly) = True              neg : pos    =      5.5 : 1.0\n",
            "          contains(lame) = True              neg : pos    =      5.3 : 1.0\n",
            "        contains(wasted) = True              neg : pos    =      5.1 : 1.0\n"
          ]
        }
      ]
    }
  ]
}